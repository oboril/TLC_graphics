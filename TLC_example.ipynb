{
 "cells": [
  {
   "cell_type": "code",
   "execution_count": 1,
   "metadata": {},
   "outputs": [],
   "source": [
    "from TLC import TLC;\n",
    "from IPython.display import SVG, display"
   ]
  },
  {
   "cell_type": "code",
   "execution_count": 2,
   "metadata": {},
   "outputs": [
    {
     "data": {
      "image/svg+xml": "<svg xmlns=\"http://www.w3.org/2000/svg\" xmlns:xlink=\"http://www.w3.org/1999/xlink\" width=\"45mm\" height=\"110mm\">\n<rect x=\"5mm\" y=\"5mm\" width=\"35mm\" height=\"100mm\" fill=\"none\" stroke=\"#777777\" stroke-width=\"0.3mm\"/>\n<line x1=\"5mm\" y1=\"95mm\" x2=\"40mm\" y2=\"95mm\" stroke-width=\"0.3mm\" stroke=\"#777777\"/>\n<line x1=\"5mm\" y1=\"20mm\" x2=\"40mm\" y2=\"20mm\" stroke-width=\"0.3mm\" stroke=\"#777777\"/>\n<ellipse cx=\"10.833333333333332mm\" cy=\"50mm\" rx=\"3.0mm\" ry=\"2.5mm\" fill=\"#555555\"/>\n<ellipse cx=\"22.5mm\" cy=\"50mm\" rx=\"2.5mm\" ry=\"2.5mm\" fill=\"#555555\"/>\n<ellipse cx=\"22.5mm\" cy=\"67mm\" rx=\"2.5mm\" ry=\"2.0mm\" fill=\"#555555\"/>\n<text x=\"10.833333333333332mm\" y=\"100.0mm\" font-size=\"7pt\" dominant-baseline=\"middle\" text-anchor=\"middle\">\n<tspan x=\"10.833333333333332mm\" dy=\"0.0em\">Reactant</tspan>\n</text>\n<text x=\"22.5mm\" y=\"100.0mm\" font-size=\"7pt\" dominant-baseline=\"middle\" text-anchor=\"middle\">\n<tspan x=\"22.5mm\" dy=\"0.0em\">Cospot</tspan>\n</text>\n<text x=\"34.166666666666664mm\" y=\"100.0mm\" font-size=\"7pt\" dominant-baseline=\"middle\" text-anchor=\"middle\">\n<tspan x=\"34.166666666666664mm\" dy=\"0.0em\">Product</tspan>\n</text>\n</svg>",
      "text/plain": [
       "<IPython.core.display.SVG object>"
      ]
     },
     "metadata": {},
     "output_type": "display_data"
    },
    {
     "data": {
      "text/plain": [
       "[0.6, 0.6, 0.37333333333333335]"
      ]
     },
     "execution_count": 2,
     "metadata": {},
     "output_type": "execute_result"
    }
   ],
   "source": [
    "tlc = TLC(solvent_top=75)\n",
    "tlc.set_lane_names(['Reactant','Cospot','Product'],fontsize=7)\n",
    "tlc.spot(0,45,6,5)\n",
    "tlc.spot(1,45,5,5)\n",
    "tlc.spot(1,28,5,4)\n",
    "\n",
    "display(SVG(tlc.plot()))\n",
    "tlc.get_Rf()"
   ]
  },
  {
   "cell_type": "code",
   "execution_count": 3,
   "metadata": {},
   "outputs": [],
   "source": [
    "tlc.save_svg('tlc_example.svg')\n",
    "tlc.save_pdf('tlc_example.pdf')\n",
    "tlc.save_png('tlc_example.png',dpi=30)"
   ]
  }
 ],
 "metadata": {
  "interpreter": {
   "hash": "6d9c8f8af1b975441dce591d6936b30565cb13634dc7540ce756463d8773e55e"
  },
  "kernelspec": {
   "display_name": "Python 3.8.12 64-bit ('jupyter-env': conda)",
   "language": "python",
   "name": "python3"
  },
  "language_info": {
   "codemirror_mode": {
    "name": "ipython",
    "version": 3
   },
   "file_extension": ".py",
   "mimetype": "text/x-python",
   "name": "python",
   "nbconvert_exporter": "python",
   "pygments_lexer": "ipython3",
   "version": "3.8.12"
  },
  "orig_nbformat": 4
 },
 "nbformat": 4,
 "nbformat_minor": 2
}
